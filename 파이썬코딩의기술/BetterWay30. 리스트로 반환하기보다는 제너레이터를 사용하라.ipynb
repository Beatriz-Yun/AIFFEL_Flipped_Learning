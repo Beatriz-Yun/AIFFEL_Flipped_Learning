{
 "cells": [
  {
   "cell_type": "markdown",
   "id": "3bdaa33e",
   "metadata": {},
   "source": [
    "### 시퀀스를 결과로 만들어내는 함수를 만들 때\n",
    "### 1) 리스트를 반환\n",
    "#### 문제점1: 코드에 잡음이 많고 핵심을 알아보기 어렵다\n",
    "- 리스트 메소드 호출들로 인해 리스트에 추가될 값 (index + 1)의 중요성이 희석된다.\n",
    "\n",
    "#### 문제점2: 함수를 반환하기 전에 리스트에 모든 결과를 저장해야 한다\n",
    "- 입력이 매우 크면 프로그램이 메모리를 소진해서 중단될 수 있다."
   ]
  },
  {
   "cell_type": "code",
   "execution_count": 1,
   "id": "0a5de072",
   "metadata": {},
   "outputs": [],
   "source": [
    "def index_words(text):\n",
    "    result = []\n",
    "    # text가 ''가 아니라면\n",
    "    if text:\n",
    "        result.append(0)\n",
    "    for index, letter in enumerate(text):\n",
    "        # 공백의 인덱스+1을 리스트에 추가\n",
    "        if letter == ' ':\n",
    "            result.append(index + 1)\n",
    "    return result"
   ]
  },
  {
   "cell_type": "code",
   "execution_count": 2,
   "id": "cdd650e4",
   "metadata": {},
   "outputs": [
    {
     "name": "stdout",
     "output_type": "stream",
     "text": [
      "[0, 8, 18, 23, 28, 38]\n"
     ]
    }
   ],
   "source": [
    "address = '컴퓨터(영어: Computer, 문화어: 콤퓨터, 순화어:전산기)는 진공관' # 186쪽 오타 정정\n",
    "result = index_words(address)\n",
    "print(result[:10])"
   ]
  },
  {
   "cell_type": "markdown",
   "id": "fabb3a42",
   "metadata": {},
   "source": [
    "### 2) 제너레이터를 사용\n",
    "- 함수 안에서 yield식을 사용하면 함수는 제너레이터가 된다.\n",
    "- next 내장함수를 호출할 때마다 이터레이터는 제너레이터 함수를 다음 yield식까지 진행시킨다. \n",
    "\n",
    "> **이터레이터(iterator)**는 값을 차례대로 꺼낼 수 있는 객체(object)입니다. 파이썬에서는 이터레이터만 생성하고 <u>값이 필요한 시점이 되었을 때 값을 만드는 방식</u>을 사용합니다. 즉, 데이터 생성을 뒤로 미루는 것인데 이런 방식을 **지연 평가(lazy evaluation)**라고 합니다.\n",
    "\n",
    "![img](./bt30.PNG)\n",
    "\n",
    "(이미지출처: [Unit 40. 제너레이터 사용하기](https://dojang.io/mod/page/view.php?id=2412))"
   ]
  },
  {
   "cell_type": "markdown",
   "id": "6f20c7c2",
   "metadata": {},
   "source": [
    "#### 문제점1 해결: 읽기 쉬워진다."
   ]
  },
  {
   "cell_type": "code",
   "execution_count": 3,
   "id": "9a3cfbb6",
   "metadata": {},
   "outputs": [],
   "source": [
    "def index_words_iter(text):\n",
    "    if text:\n",
    "        print('전')\n",
    "        yield 0\n",
    "        print('후')\n",
    "    for index, letter in enumerate(text):\n",
    "        if letter == ' ':\n",
    "            print('전')\n",
    "            yield index + 1\n",
    "            print('후')"
   ]
  },
  {
   "cell_type": "code",
   "execution_count": 4,
   "id": "8d40ff58",
   "metadata": {},
   "outputs": [
    {
     "data": {
      "text/plain": [
       "<generator object index_words_iter at 0x000001F312A5C120>"
      ]
     },
     "execution_count": 4,
     "metadata": {},
     "output_type": "execute_result"
    }
   ],
   "source": [
    "it = index_words_iter(address)\n",
    "it # 제너레이터 객체"
   ]
  },
  {
   "cell_type": "markdown",
   "id": "280219cb",
   "metadata": {},
   "source": [
    " #### dir 함수를 사용하면 객체의 메서드를 확인할 수 있다.\n",
    " 이터레이터에서 볼 수 있는 \\__iter\\__, \\__next\\__ 메서드가 들어있다."
   ]
  },
  {
   "cell_type": "code",
   "execution_count": 5,
   "id": "8f9735bb",
   "metadata": {
    "scrolled": false
   },
   "outputs": [
    {
     "data": {
      "text/plain": [
       "['__class__',\n",
       " '__del__',\n",
       " '__delattr__',\n",
       " '__dir__',\n",
       " '__doc__',\n",
       " '__eq__',\n",
       " '__format__',\n",
       " '__ge__',\n",
       " '__getattribute__',\n",
       " '__gt__',\n",
       " '__hash__',\n",
       " '__init__',\n",
       " '__init_subclass__',\n",
       " '__iter__',\n",
       " '__le__',\n",
       " '__lt__',\n",
       " '__name__',\n",
       " '__ne__',\n",
       " '__new__',\n",
       " '__next__',\n",
       " '__qualname__',\n",
       " '__reduce__',\n",
       " '__reduce_ex__',\n",
       " '__repr__',\n",
       " '__setattr__',\n",
       " '__sizeof__',\n",
       " '__str__',\n",
       " '__subclasshook__',\n",
       " 'close',\n",
       " 'gi_code',\n",
       " 'gi_frame',\n",
       " 'gi_running',\n",
       " 'gi_yieldfrom',\n",
       " 'send',\n",
       " 'throw']"
      ]
     },
     "execution_count": 5,
     "metadata": {},
     "output_type": "execute_result"
    }
   ],
   "source": [
    "dir(it)"
   ]
  },
  {
   "cell_type": "code",
   "execution_count": 6,
   "id": "db39ec44",
   "metadata": {},
   "outputs": [
    {
     "name": "stdout",
     "output_type": "stream",
     "text": [
      "전\n",
      "0\n"
     ]
    }
   ],
   "source": [
    "print(next(it))"
   ]
  },
  {
   "cell_type": "markdown",
   "id": "4b29152f",
   "metadata": {},
   "source": [
    "### 이터레이터를 쉽게 리스트로 변환 가능"
   ]
  },
  {
   "cell_type": "code",
   "execution_count": 7,
   "id": "b63b99d2",
   "metadata": {},
   "outputs": [
    {
     "name": "stdout",
     "output_type": "stream",
     "text": [
      "전\n",
      "후\n",
      "전\n",
      "후\n",
      "전\n",
      "후\n",
      "전\n",
      "후\n",
      "전\n",
      "후\n",
      "전\n",
      "후\n",
      "[0, 8, 18, 23, 28, 38]\n"
     ]
    }
   ],
   "source": [
    "result = list(index_words_iter(address))\n",
    "print(result[:10])"
   ]
  },
  {
   "cell_type": "markdown",
   "id": "4a690186",
   "metadata": {},
   "source": [
    "#### 문제점2 해결: 사용하는 메모리크기를 어느정도 제한할 수 있다.\n",
    "- 한 번의 한 줄씩 읽음: 함수의 작업 메모리는 입력 중 가장 긴 줄의 길이로 제한된다."
   ]
  },
  {
   "cell_type": "code",
   "execution_count": 8,
   "id": "c94c86c6",
   "metadata": {},
   "outputs": [],
   "source": [
    "def index_file(handle):\n",
    "    offset = 0\n",
    "    for line in handle:\n",
    "        if line:\n",
    "            yield offset\n",
    "        for letter in line:\n",
    "            offset += 1\n",
    "            if letter == ' ':\n",
    "                yield offset"
   ]
  },
  {
   "cell_type": "markdown",
   "id": "043279fb",
   "metadata": {},
   "source": [
    "**itertools의 islice**는 시퀀스의 슬라이싱과 같이 동작한다.<br>\n",
    "첫 번째 매개 변수는 반복 가능한 객체, 두 번째 매개 변수는 시작 index, 세 번째 매개 변수는 마지막 index+1이다.<br>\n",
    "stride를 지정하는 매개변수를 마지막에 추가할 수 있다. "
   ]
  },
  {
   "cell_type": "code",
   "execution_count": 9,
   "id": "fe024ca3",
   "metadata": {},
   "outputs": [
    {
     "name": "stdout",
     "output_type": "stream",
     "text": [
      "[0, 8, 18, 23, 28, 38]\n"
     ]
    }
   ],
   "source": [
    "import itertools\n",
    "with open('address.txt', 'r', encoding='utf-8') as f:\n",
    "    it = index_file(f)\n",
    "    results = itertools.islice(it, 0, 10)\n",
    "    print(list(results))"
   ]
  },
  {
   "cell_type": "markdown",
   "id": "4af96f1a",
   "metadata": {},
   "source": [
    "itertolls.islice 사용 예시"
   ]
  },
  {
   "cell_type": "code",
   "execution_count": 10,
   "id": "e755176c",
   "metadata": {},
   "outputs": [
    {
     "name": "stdout",
     "output_type": "stream",
     "text": [
      "[4, 7, 10]\n"
     ]
    }
   ],
   "source": [
    "from itertools import islice\n",
    "      \n",
    "li = [2, 4, 5, 7, 8, 10, 20] \n",
    "\n",
    "print(list(itertools.islice(li, 1, 6, 2)))  "
   ]
  },
  {
   "cell_type": "markdown",
   "id": "97a594c5",
   "metadata": {},
   "source": [
    "#### 제너레이터를 정의할 때 알아둬야 할 점!\n",
    "**-> 제너레이터가 반환하는 이터레이터에 상태가 있기 때문에 호출하는 쪽에서 재사용이 불가능하다!!**"
   ]
  }
 ],
 "metadata": {
  "kernelspec": {
   "display_name": "Python 3",
   "language": "python",
   "name": "python3"
  },
  "language_info": {
   "codemirror_mode": {
    "name": "ipython",
    "version": 3
   },
   "file_extension": ".py",
   "mimetype": "text/x-python",
   "name": "python",
   "nbconvert_exporter": "python",
   "pygments_lexer": "ipython3",
   "version": "3.8.5"
  }
 },
 "nbformat": 4,
 "nbformat_minor": 5
}
