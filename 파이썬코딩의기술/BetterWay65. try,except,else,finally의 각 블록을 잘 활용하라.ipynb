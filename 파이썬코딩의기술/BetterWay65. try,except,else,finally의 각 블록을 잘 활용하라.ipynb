{
 "cells": [
  {
   "cell_type": "markdown",
   "id": "234cbd5c",
   "metadata": {},
   "source": [
    "[점프투파이썬_예외처리](https://wikidocs.net/30)"
   ]
  },
  {
   "cell_type": "markdown",
   "id": "a8662ba9",
   "metadata": {},
   "source": [
    "### try/finally\n",
    "try블록 수행 중 오류 발생 여부와 상관없이 finally블록은 항상 실행된다.\n",
    "\n",
    "<br>\n",
    "파일을 열 때 발생하는 오류는 호출한 쪽에 전달되어야 하므로<br>\n",
    "try블록 앞에서 open을 호출한다."
   ]
  },
  {
   "cell_type": "code",
   "execution_count": 13,
   "id": "7b12e9cd",
   "metadata": {},
   "outputs": [
    {
     "name": "stdout",
     "output_type": "stream",
     "text": [
      "* 파일 열기\n"
     ]
    },
    {
     "ename": "FileNotFoundError",
     "evalue": "[Errno 2] No such file or directory: 'does_not_exist.txt'",
     "output_type": "error",
     "traceback": [
      "\u001b[1;31m---------------------------------------------------------------------------\u001b[0m",
      "\u001b[1;31mFileNotFoundError\u001b[0m                         Traceback (most recent call last)",
      "\u001b[1;32m<ipython-input-13-0224ff29eb86>\u001b[0m in \u001b[0;36m<module>\u001b[1;34m\u001b[0m\n\u001b[0;32m     22\u001b[0m \u001b[1;31m# 파일을 열 때 오류 발생\u001b[0m\u001b[1;33m\u001b[0m\u001b[1;33m\u001b[0m\u001b[1;33m\u001b[0m\u001b[0m\n\u001b[0;32m     23\u001b[0m \u001b[1;31m# finally를 거치지 않는다.\u001b[0m\u001b[1;33m\u001b[0m\u001b[1;33m\u001b[0m\u001b[1;33m\u001b[0m\u001b[0m\n\u001b[1;32m---> 24\u001b[1;33m \u001b[0mtry_finally_example\u001b[0m\u001b[1;33m(\u001b[0m\u001b[1;34m'does_not_exist.txt'\u001b[0m\u001b[1;33m)\u001b[0m\u001b[1;33m\u001b[0m\u001b[1;33m\u001b[0m\u001b[0m\n\u001b[0m",
      "\u001b[1;32m<ipython-input-13-0224ff29eb86>\u001b[0m in \u001b[0;36mtry_finally_example\u001b[1;34m(filename)\u001b[0m\n\u001b[0;32m      1\u001b[0m \u001b[1;32mdef\u001b[0m \u001b[0mtry_finally_example\u001b[0m\u001b[1;33m(\u001b[0m\u001b[0mfilename\u001b[0m\u001b[1;33m)\u001b[0m\u001b[1;33m:\u001b[0m\u001b[1;33m\u001b[0m\u001b[1;33m\u001b[0m\u001b[0m\n\u001b[0;32m      2\u001b[0m     \u001b[0mprint\u001b[0m\u001b[1;33m(\u001b[0m\u001b[1;34m'* 파일 열기'\u001b[0m\u001b[1;33m)\u001b[0m\u001b[1;33m\u001b[0m\u001b[1;33m\u001b[0m\u001b[0m\n\u001b[1;32m----> 3\u001b[1;33m     \u001b[0mhandle\u001b[0m \u001b[1;33m=\u001b[0m \u001b[0mopen\u001b[0m\u001b[1;33m(\u001b[0m\u001b[0mfilename\u001b[0m\u001b[1;33m,\u001b[0m \u001b[0mencoding\u001b[0m\u001b[1;33m=\u001b[0m\u001b[1;34m'utf-8'\u001b[0m\u001b[1;33m)\u001b[0m \u001b[1;31m# OSError 발생할 수 있음\u001b[0m\u001b[1;33m\u001b[0m\u001b[1;33m\u001b[0m\u001b[0m\n\u001b[0m\u001b[0;32m      4\u001b[0m     \u001b[1;32mtry\u001b[0m\u001b[1;33m:\u001b[0m\u001b[1;33m\u001b[0m\u001b[1;33m\u001b[0m\u001b[0m\n\u001b[0;32m      5\u001b[0m         \u001b[0mprint\u001b[0m\u001b[1;33m(\u001b[0m\u001b[1;34m'* 데이터 읽기'\u001b[0m\u001b[1;33m)\u001b[0m\u001b[1;33m\u001b[0m\u001b[1;33m\u001b[0m\u001b[0m\n",
      "\u001b[1;31mFileNotFoundError\u001b[0m: [Errno 2] No such file or directory: 'does_not_exist.txt'"
     ]
    }
   ],
   "source": [
    "def try_finally_example(filename):\n",
    "    print('* 파일 열기')\n",
    "    handle = open(filename, encoding='utf-8') # OSError 발생할 수 있음\n",
    "    try:\n",
    "        print('* 데이터 읽기')\n",
    "        return handle.read()      # UnicodeDecodeError 발생할 수 있음\n",
    "    finally:\n",
    "        print('* close() 호출')\n",
    "        handle.close()            # try 블록이 실행된 다음에는 항상 이 블록이 실행됨\n",
    "\n",
    "\n",
    "filename = 'random_data.txt'\n",
    "\n",
    "# 이진문자열을 쓰기: 'wb'\n",
    "with open(filename, 'wb') as f:\n",
    "    f.write(b'\\xf1\\xf2\\xf3\\xf4\\xf5')  # 잘못된 utf-8 이진 문자열\n",
    "\n",
    "# 데이터를 읽을 때 오류 발생\n",
    "# try-finally\n",
    "#data = try_finally_example(filename)\n",
    "\n",
    "# 파일을 열 때 오류 발생\n",
    "# finally를 거치지 않는다.\n",
    "try_finally_example('does_not_exist.txt')"
   ]
  },
  {
   "cell_type": "markdown",
   "id": "235dfd79",
   "metadata": {},
   "source": [
    "### try/except/else\n",
    "except 발생오류 as 오류메시지 변수\n",
    "-  except문에 미리 정해 놓은 오류 이름과 일치할 때만 except 블록을 수행한다\n",
    "\n",
    "<br>\n",
    "else블록은 오류가 없을 경우에만 수행된다.\n",
    "\n",
    "- else블록을 사용하면 try블록 안에 들어갈 코드를 최소화할 수 있다.\n",
    "- try블록에 들어가는 코드가 줄어들면 **발생할 여지가 있는 예외를 서로 구분할 수 있으므로 가독성이 좋아진다.**"
   ]
  },
  {
   "cell_type": "code",
   "execution_count": 15,
   "id": "6e4121ed",
   "metadata": {},
   "outputs": [
    {
     "name": "stdout",
     "output_type": "stream",
     "text": [
      "* JSON 데이터 읽기\n",
      "* 키 검색\n",
      "* JSON 데이터 읽기\n",
      "* 키 검색\n"
     ]
    },
    {
     "ename": "KeyError",
     "evalue": "'존재하지 않음'",
     "output_type": "error",
     "traceback": [
      "\u001b[1;31m---------------------------------------------------------------------------\u001b[0m",
      "\u001b[1;31mKeyError\u001b[0m                                  Traceback (most recent call last)",
      "\u001b[1;32m<ipython-input-15-8710aa57639a>\u001b[0m in \u001b[0;36m<module>\u001b[1;34m\u001b[0m\n\u001b[0;32m     22\u001b[0m \u001b[1;31m# 키 검색에서 예외 발생\u001b[0m\u001b[1;33m\u001b[0m\u001b[1;33m\u001b[0m\u001b[1;33m\u001b[0m\u001b[0m\n\u001b[0;32m     23\u001b[0m \u001b[1;31m# try-else\u001b[0m\u001b[1;33m\u001b[0m\u001b[1;33m\u001b[0m\u001b[1;33m\u001b[0m\u001b[0m\n\u001b[1;32m---> 24\u001b[1;33m \u001b[0mload_json_key\u001b[0m\u001b[1;33m(\u001b[0m\u001b[1;34m'{\"foo\": \"bar\"}'\u001b[0m\u001b[1;33m,\u001b[0m \u001b[1;34m'존재하지 않음'\u001b[0m\u001b[1;33m)\u001b[0m   \u001b[1;31m# 존재하지 않는 키 입력\u001b[0m\u001b[1;33m\u001b[0m\u001b[1;33m\u001b[0m\u001b[0m\n\u001b[0m",
      "\u001b[1;32m<ipython-input-15-8710aa57639a>\u001b[0m in \u001b[0;36mload_json_key\u001b[1;34m(data, key)\u001b[0m\n\u001b[0;32m     10\u001b[0m     \u001b[1;32melse\u001b[0m\u001b[1;33m:\u001b[0m\u001b[1;33m\u001b[0m\u001b[1;33m\u001b[0m\u001b[0m\n\u001b[0;32m     11\u001b[0m         \u001b[0mprint\u001b[0m\u001b[1;33m(\u001b[0m\u001b[1;34m'* 키 검색'\u001b[0m\u001b[1;33m)\u001b[0m\u001b[1;33m\u001b[0m\u001b[1;33m\u001b[0m\u001b[0m\n\u001b[1;32m---> 12\u001b[1;33m         \u001b[1;32mreturn\u001b[0m \u001b[0mresult_dict\u001b[0m\u001b[1;33m[\u001b[0m\u001b[0mkey\u001b[0m\u001b[1;33m]\u001b[0m            \u001b[1;31m# KeyError가 발생할 수 있음\u001b[0m\u001b[1;33m\u001b[0m\u001b[1;33m\u001b[0m\u001b[0m\n\u001b[0m\u001b[0;32m     13\u001b[0m \u001b[1;33m\u001b[0m\u001b[0m\n\u001b[0;32m     14\u001b[0m \u001b[1;31m# 성공적으로 실행\u001b[0m\u001b[1;33m\u001b[0m\u001b[1;33m\u001b[0m\u001b[1;33m\u001b[0m\u001b[0m\n",
      "\u001b[1;31mKeyError\u001b[0m: '존재하지 않음'"
     ]
    }
   ],
   "source": [
    "import json\n",
    "\n",
    "def load_json_key(data, key):\n",
    "    try:\n",
    "        print('* JSON 데이터 읽기')\n",
    "        result_dict = json.loads(data)     # ValueError가 발생할 수 있음\n",
    "    except ValueError as e:\n",
    "        print('* ValueError 처리')\n",
    "        raise KeyError(key) from e\n",
    "    else:\n",
    "        print('* 키 검색')\n",
    "        return result_dict[key]            # KeyError가 발생할 수 있음\n",
    "\n",
    "# 성공적으로 실행\n",
    "# try-else\n",
    "assert load_json_key('{\"foo\": \"bar\"}', 'foo') == 'bar'\n",
    "\n",
    "# 입력이 올바른 JSON이 아니므로 json.loads가 디코딩하는 중에 ValueError 발생\n",
    "# try-except\n",
    "#load_json_key('{\"foo\": bad payload', 'foo')         # 잘못된 데이터형식\n",
    "\n",
    "# 키 검색에서 예외 발생\n",
    "# try-else\n",
    "load_json_key('{\"foo\": \"bar\"}', '존재하지 않음')   # 존재하지 않는 키 입력"
   ]
  },
  {
   "cell_type": "markdown",
   "id": "86ca5f6b",
   "metadata": {},
   "source": [
    "### try/except/else/finally\n",
    "- 이 구조는 모든 블럭이 직관적으로 작동하기 때문에 유용하다.\n",
    "\n",
    "json데이터에 저장된 numerator와 denominator를 나눈 결과를 다시 json에 저장하는 코드"
   ]
  },
  {
   "cell_type": "code",
   "execution_count": 5,
   "id": "6ac7c7d7",
   "metadata": {},
   "outputs": [
    {
     "name": "stdout",
     "output_type": "stream",
     "text": [
      "* 파일 열기\n",
      "* 데이터 읽기\n",
      "* JSON 데이터 읽기\n",
      "* 계산 수행\n",
      "* 계산 결과 쓰기\n",
      "* close() 호출\n"
     ]
    }
   ],
   "source": [
    "UNDEFINED = object()\n",
    "\n",
    "def divide_json(path):\n",
    "    print('* 파일 열기')\n",
    "    handle = open(path, 'r+')             # OSError가 발생할 수 있음\n",
    "    try:\n",
    "        print('* 데이터 읽기')\n",
    "        data = handle.read()              # UnicodeDecodeError가 발생할 수 있음\n",
    "        print('* JSON 데이터 읽기')\n",
    "        op = json.loads(data)             # ValueError가 발생할 수 있음\n",
    "        print('* 계산 수행')\n",
    "        value = (\n",
    "            op['numerator'] /\n",
    "            op['denominator'])            # ZeroDivisionError가 발생할 수 있음\n",
    "    except ZeroDivisionError as e:\n",
    "        print('* ZeroDivisionError 처리')\n",
    "        return UNDEFINED\n",
    "    else:\n",
    "        print('* 계산 결과 쓰기')\n",
    "        op['result'] = value\n",
    "        result = json.dumps(op)\n",
    "        handle.seek(0)                    # OSError가 발생할 수 있음\n",
    "        handle.write(result)              # OSError가 발생할 수 있음\n",
    "        return value\n",
    "    finally:\n",
    "        print('* close() 호출')\n",
    "        handle.close()                    # 어떤 경우든 실행됨\n",
    "\n",
    "temp_path = 'random_data.json'\n",
    "\n",
    "with open(temp_path, 'w') as f:\n",
    "    f.write('{\"numerator\": 1, \"denominator\": 10}')\n",
    "\n",
    "# 정상적인 경우\n",
    "# try-else-finally블록 수행 \n",
    "assert divide_json(temp_path) == 0.1 # 계산 결과"
   ]
  },
  {
   "cell_type": "code",
   "execution_count": 6,
   "id": "95deaff7",
   "metadata": {},
   "outputs": [
    {
     "name": "stdout",
     "output_type": "stream",
     "text": [
      "* 파일 열기\n",
      "* 데이터 읽기\n",
      "* JSON 데이터 읽기\n",
      "* 계산 수행\n",
      "* ZeroDivisionError 처리\n",
      "* close() 호출\n"
     ]
    }
   ],
   "source": [
    "with open(temp_path, 'w') as f:\n",
    "    f.write('{\"numerator\": 1, \"denominator\": 0}')\n",
    "\n",
    "# 계산이 잘못된 경우\n",
    "# try-except-finally\n",
    "assert divide_json(temp_path) is UNDEFINED"
   ]
  },
  {
   "cell_type": "code",
   "execution_count": 7,
   "id": "70e0f6d2",
   "metadata": {},
   "outputs": [
    {
     "name": "stdout",
     "output_type": "stream",
     "text": [
      "* 파일 열기\n",
      "* 데이터 읽기\n",
      "* JSON 데이터 읽기\n",
      "* close() 호출\n"
     ]
    },
    {
     "ename": "JSONDecodeError",
     "evalue": "Expecting ',' delimiter: line 1 column 17 (char 16)",
     "output_type": "error",
     "traceback": [
      "\u001b[1;31m---------------------------------------------------------------------------\u001b[0m",
      "\u001b[1;31mJSONDecodeError\u001b[0m                           Traceback (most recent call last)",
      "\u001b[1;32m<ipython-input-7-eee55d109e19>\u001b[0m in \u001b[0;36m<module>\u001b[1;34m\u001b[0m\n\u001b[0;32m      3\u001b[0m \u001b[1;33m\u001b[0m\u001b[0m\n\u001b[0;32m      4\u001b[0m \u001b[1;31m# JSON데이터가 잘못된 경우\u001b[0m\u001b[1;33m\u001b[0m\u001b[1;33m\u001b[0m\u001b[1;33m\u001b[0m\u001b[0m\n\u001b[1;32m----> 5\u001b[1;33m \u001b[0mdivide_json\u001b[0m\u001b[1;33m(\u001b[0m\u001b[0mtemp_path\u001b[0m\u001b[1;33m)\u001b[0m\u001b[1;33m\u001b[0m\u001b[1;33m\u001b[0m\u001b[0m\n\u001b[0m",
      "\u001b[1;32m<ipython-input-5-ea60e88aaa1e>\u001b[0m in \u001b[0;36mdivide_json\u001b[1;34m(path)\u001b[0m\n\u001b[0;32m      8\u001b[0m         \u001b[0mdata\u001b[0m \u001b[1;33m=\u001b[0m \u001b[0mhandle\u001b[0m\u001b[1;33m.\u001b[0m\u001b[0mread\u001b[0m\u001b[1;33m(\u001b[0m\u001b[1;33m)\u001b[0m              \u001b[1;31m# UnicodeDecodeError가 발생할 수 있음\u001b[0m\u001b[1;33m\u001b[0m\u001b[1;33m\u001b[0m\u001b[0m\n\u001b[0;32m      9\u001b[0m         \u001b[0mprint\u001b[0m\u001b[1;33m(\u001b[0m\u001b[1;34m'* JSON 데이터 읽기'\u001b[0m\u001b[1;33m)\u001b[0m\u001b[1;33m\u001b[0m\u001b[1;33m\u001b[0m\u001b[0m\n\u001b[1;32m---> 10\u001b[1;33m         \u001b[0mop\u001b[0m \u001b[1;33m=\u001b[0m \u001b[0mjson\u001b[0m\u001b[1;33m.\u001b[0m\u001b[0mloads\u001b[0m\u001b[1;33m(\u001b[0m\u001b[0mdata\u001b[0m\u001b[1;33m)\u001b[0m             \u001b[1;31m# ValueError가 발생할 수 있음\u001b[0m\u001b[1;33m\u001b[0m\u001b[1;33m\u001b[0m\u001b[0m\n\u001b[0m\u001b[0;32m     11\u001b[0m         \u001b[0mprint\u001b[0m\u001b[1;33m(\u001b[0m\u001b[1;34m'* 계산 수행'\u001b[0m\u001b[1;33m)\u001b[0m\u001b[1;33m\u001b[0m\u001b[1;33m\u001b[0m\u001b[0m\n\u001b[0;32m     12\u001b[0m         value = (\n",
      "\u001b[1;32m~\\anaconda3\\lib\\json\\__init__.py\u001b[0m in \u001b[0;36mloads\u001b[1;34m(s, cls, object_hook, parse_float, parse_int, parse_constant, object_pairs_hook, **kw)\u001b[0m\n\u001b[0;32m    355\u001b[0m             \u001b[0mparse_int\u001b[0m \u001b[1;32mis\u001b[0m \u001b[1;32mNone\u001b[0m \u001b[1;32mand\u001b[0m \u001b[0mparse_float\u001b[0m \u001b[1;32mis\u001b[0m \u001b[1;32mNone\u001b[0m \u001b[1;32mand\u001b[0m\u001b[1;33m\u001b[0m\u001b[1;33m\u001b[0m\u001b[0m\n\u001b[0;32m    356\u001b[0m             parse_constant is None and object_pairs_hook is None and not kw):\n\u001b[1;32m--> 357\u001b[1;33m         \u001b[1;32mreturn\u001b[0m \u001b[0m_default_decoder\u001b[0m\u001b[1;33m.\u001b[0m\u001b[0mdecode\u001b[0m\u001b[1;33m(\u001b[0m\u001b[0ms\u001b[0m\u001b[1;33m)\u001b[0m\u001b[1;33m\u001b[0m\u001b[1;33m\u001b[0m\u001b[0m\n\u001b[0m\u001b[0;32m    358\u001b[0m     \u001b[1;32mif\u001b[0m \u001b[0mcls\u001b[0m \u001b[1;32mis\u001b[0m \u001b[1;32mNone\u001b[0m\u001b[1;33m:\u001b[0m\u001b[1;33m\u001b[0m\u001b[1;33m\u001b[0m\u001b[0m\n\u001b[0;32m    359\u001b[0m         \u001b[0mcls\u001b[0m \u001b[1;33m=\u001b[0m \u001b[0mJSONDecoder\u001b[0m\u001b[1;33m\u001b[0m\u001b[1;33m\u001b[0m\u001b[0m\n",
      "\u001b[1;32m~\\anaconda3\\lib\\json\\decoder.py\u001b[0m in \u001b[0;36mdecode\u001b[1;34m(self, s, _w)\u001b[0m\n\u001b[0;32m    335\u001b[0m \u001b[1;33m\u001b[0m\u001b[0m\n\u001b[0;32m    336\u001b[0m         \"\"\"\n\u001b[1;32m--> 337\u001b[1;33m         \u001b[0mobj\u001b[0m\u001b[1;33m,\u001b[0m \u001b[0mend\u001b[0m \u001b[1;33m=\u001b[0m \u001b[0mself\u001b[0m\u001b[1;33m.\u001b[0m\u001b[0mraw_decode\u001b[0m\u001b[1;33m(\u001b[0m\u001b[0ms\u001b[0m\u001b[1;33m,\u001b[0m \u001b[0midx\u001b[0m\u001b[1;33m=\u001b[0m\u001b[0m_w\u001b[0m\u001b[1;33m(\u001b[0m\u001b[0ms\u001b[0m\u001b[1;33m,\u001b[0m \u001b[1;36m0\u001b[0m\u001b[1;33m)\u001b[0m\u001b[1;33m.\u001b[0m\u001b[0mend\u001b[0m\u001b[1;33m(\u001b[0m\u001b[1;33m)\u001b[0m\u001b[1;33m)\u001b[0m\u001b[1;33m\u001b[0m\u001b[1;33m\u001b[0m\u001b[0m\n\u001b[0m\u001b[0;32m    338\u001b[0m         \u001b[0mend\u001b[0m \u001b[1;33m=\u001b[0m \u001b[0m_w\u001b[0m\u001b[1;33m(\u001b[0m\u001b[0ms\u001b[0m\u001b[1;33m,\u001b[0m \u001b[0mend\u001b[0m\u001b[1;33m)\u001b[0m\u001b[1;33m.\u001b[0m\u001b[0mend\u001b[0m\u001b[1;33m(\u001b[0m\u001b[1;33m)\u001b[0m\u001b[1;33m\u001b[0m\u001b[1;33m\u001b[0m\u001b[0m\n\u001b[0;32m    339\u001b[0m         \u001b[1;32mif\u001b[0m \u001b[0mend\u001b[0m \u001b[1;33m!=\u001b[0m \u001b[0mlen\u001b[0m\u001b[1;33m(\u001b[0m\u001b[0ms\u001b[0m\u001b[1;33m)\u001b[0m\u001b[1;33m:\u001b[0m\u001b[1;33m\u001b[0m\u001b[1;33m\u001b[0m\u001b[0m\n",
      "\u001b[1;32m~\\anaconda3\\lib\\json\\decoder.py\u001b[0m in \u001b[0;36mraw_decode\u001b[1;34m(self, s, idx)\u001b[0m\n\u001b[0;32m    351\u001b[0m         \"\"\"\n\u001b[0;32m    352\u001b[0m         \u001b[1;32mtry\u001b[0m\u001b[1;33m:\u001b[0m\u001b[1;33m\u001b[0m\u001b[1;33m\u001b[0m\u001b[0m\n\u001b[1;32m--> 353\u001b[1;33m             \u001b[0mobj\u001b[0m\u001b[1;33m,\u001b[0m \u001b[0mend\u001b[0m \u001b[1;33m=\u001b[0m \u001b[0mself\u001b[0m\u001b[1;33m.\u001b[0m\u001b[0mscan_once\u001b[0m\u001b[1;33m(\u001b[0m\u001b[0ms\u001b[0m\u001b[1;33m,\u001b[0m \u001b[0midx\u001b[0m\u001b[1;33m)\u001b[0m\u001b[1;33m\u001b[0m\u001b[1;33m\u001b[0m\u001b[0m\n\u001b[0m\u001b[0;32m    354\u001b[0m         \u001b[1;32mexcept\u001b[0m \u001b[0mStopIteration\u001b[0m \u001b[1;32mas\u001b[0m \u001b[0merr\u001b[0m\u001b[1;33m:\u001b[0m\u001b[1;33m\u001b[0m\u001b[1;33m\u001b[0m\u001b[0m\n\u001b[0;32m    355\u001b[0m             \u001b[1;32mraise\u001b[0m \u001b[0mJSONDecodeError\u001b[0m\u001b[1;33m(\u001b[0m\u001b[1;34m\"Expecting value\"\u001b[0m\u001b[1;33m,\u001b[0m \u001b[0ms\u001b[0m\u001b[1;33m,\u001b[0m \u001b[0merr\u001b[0m\u001b[1;33m.\u001b[0m\u001b[0mvalue\u001b[0m\u001b[1;33m)\u001b[0m \u001b[1;32mfrom\u001b[0m \u001b[1;32mNone\u001b[0m\u001b[1;33m\u001b[0m\u001b[1;33m\u001b[0m\u001b[0m\n",
      "\u001b[1;31mJSONDecodeError\u001b[0m: Expecting ',' delimiter: line 1 column 17 (char 16)"
     ]
    }
   ],
   "source": [
    "with open(temp_path, 'w') as f:\n",
    "    f.write('{\"numerator\": 1 bad data')\n",
    "\n",
    "# JSON데이터가 잘못된 경우\n",
    "# try-finally\n",
    "divide_json(temp_path)"
   ]
  }
 ],
 "metadata": {
  "kernelspec": {
   "display_name": "Python 3",
   "language": "python",
   "name": "python3"
  },
  "language_info": {
   "codemirror_mode": {
    "name": "ipython",
    "version": 3
   },
   "file_extension": ".py",
   "mimetype": "text/x-python",
   "name": "python",
   "nbconvert_exporter": "python",
   "pygments_lexer": "ipython3",
   "version": "3.8.5"
  }
 },
 "nbformat": 4,
 "nbformat_minor": 5
}
