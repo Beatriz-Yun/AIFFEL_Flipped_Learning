{
 "cells": [
  {
   "cell_type": "markdown",
   "id": "47fbc4f5",
   "metadata": {},
   "source": [
    "https://github.com/gilbutITbook/080235/blob/faba15d26979e95bbd669583a35288a4ef383af6/Chapter2/Better%20way13.py#L47"
   ]
  },
  {
   "cell_type": "markdown",
   "id": "49378806",
   "metadata": {},
   "source": [
    "### 기본 언패킹\n",
    "* 한계점: <u>언패킹할 시퀀스의 길이</u>를 미리 알고 있어야 한다."
   ]
  },
  {
   "cell_type": "code",
   "execution_count": 26,
   "id": "d112f87c",
   "metadata": {},
   "outputs": [
    {
     "name": "stdout",
     "output_type": "stream",
     "text": [
      "[20, 19, 15, 9, 8, 7, 6, 4, 1, 0]\n"
     ]
    },
    {
     "ename": "ValueError",
     "evalue": "too many values to unpack (expected 2)",
     "output_type": "error",
     "traceback": [
      "\u001b[1;31m---------------------------------------------------------------------------\u001b[0m",
      "\u001b[1;31mValueError\u001b[0m                                Traceback (most recent call last)",
      "\u001b[1;32m<ipython-input-26-4e5dec56cc00>\u001b[0m in \u001b[0;36m<module>\u001b[1;34m\u001b[0m\n\u001b[0;32m      7\u001b[0m \u001b[1;33m\u001b[0m\u001b[0m\n\u001b[0;32m      8\u001b[0m \u001b[1;31m# 언패킹 (X)\u001b[0m\u001b[1;33m\u001b[0m\u001b[1;33m\u001b[0m\u001b[1;33m\u001b[0m\u001b[0m\n\u001b[1;32m----> 9\u001b[1;33m \u001b[0moldest\u001b[0m\u001b[1;33m,\u001b[0m \u001b[0msecond_oldest\u001b[0m \u001b[1;33m=\u001b[0m \u001b[0mcar_ages_descending\u001b[0m\u001b[1;33m\u001b[0m\u001b[1;33m\u001b[0m\u001b[0m\n\u001b[0m",
      "\u001b[1;31mValueError\u001b[0m: too many values to unpack (expected 2)"
     ]
    }
   ],
   "source": [
    "# 자동차 나이\n",
    "car_ages = [0, 9, 4, 8, 7, 20, 19, 1, 6, 15]\n",
    "\n",
    "# 내림차순 정렬\n",
    "car_ages_descending = sorted(car_ages, reverse=True)\n",
    "print(car_ages_descending)\n",
    "\n",
    "# 언패킹 (X)\n",
    "oldest, second_oldest = car_ages_descending"
   ]
  },
  {
   "cell_type": "markdown",
   "id": "1452c015",
   "metadata": {},
   "source": [
    "### 인덱스와 슬라이싱 사용\n",
    "- 1 차이 나는 인덱스로 인한 오류(off-by-one-error) 발생 위험이 있다."
   ]
  },
  {
   "cell_type": "code",
   "execution_count": 2,
   "id": "ec91ab59",
   "metadata": {},
   "outputs": [
    {
     "name": "stdout",
     "output_type": "stream",
     "text": [
      "20 19 [15, 9, 8, 7, 6, 4, 1, 0]\n"
     ]
    }
   ],
   "source": [
    "oldest = car_ages_descending[0]\n",
    "second_oldest = car_ages_descending[1]\n",
    "others = car_ages_descending[2:]\n",
    "\n",
    "print(oldest, second_oldest, others)"
   ]
  },
  {
   "cell_type": "markdown",
   "id": "fac841af",
   "metadata": {},
   "source": [
    "### 별표 식(starred expression) 사용\n",
    "* 파이썬은 모든 값을 담는 언패킹을 할 수 있도록 **별표 식**을 지원한다.\n",
    "* 이전 코드들에 비해 더 짧고, 읽기 쉽고, 인덱스로 인한 오류가 발생할 여지도 없다."
   ]
  },
  {
   "cell_type": "code",
   "execution_count": 3,
   "id": "d10a1ae7",
   "metadata": {},
   "outputs": [
    {
     "name": "stdout",
     "output_type": "stream",
     "text": [
      "20 19 [15, 9, 8, 7, 6, 4, 1, 0]\n"
     ]
    }
   ],
   "source": [
    "oldest, second_oldest, *others = car_ages_descending\n",
    "print(oldest, second_oldest, others)"
   ]
  },
  {
   "cell_type": "markdown",
   "id": "cbb67db7",
   "metadata": {},
   "source": [
    "### 별표식의 위치는 무관하다."
   ]
  },
  {
   "cell_type": "code",
   "execution_count": 19,
   "id": "8e8a6193",
   "metadata": {},
   "outputs": [
    {
     "name": "stdout",
     "output_type": "stream",
     "text": [
      "20 0 [19, 15, 9, 8, 7, 6, 4, 1]\n",
      "0 1 [20, 19, 15, 9, 8, 7, 6, 4]\n"
     ]
    }
   ],
   "source": [
    "# 제일 처음과 마지막 요소를 제외한 리스트\n",
    "oldest, *others, youngest = car_ages_descending\n",
    "print (oldest, youngest, others)\n",
    "\n",
    "# 마지막 2개 요소를 제외한 리스트\n",
    "*others, second_youngest, youngest = car_ages_descending\n",
    "print(youngest, second_youngest, others)"
   ]
  },
  {
   "cell_type": "markdown",
   "id": "ffda9b00",
   "metadata": {},
   "source": [
    "### 별표식 잘못된 사용 사례1\n",
    ": 별표식만 사용한 언패킹\n",
    "- 필수인 부분이 적어도 하나 있어야 한다."
   ]
  },
  {
   "cell_type": "code",
   "execution_count": 6,
   "id": "dcd05730",
   "metadata": {},
   "outputs": [
    {
     "ename": "SyntaxError",
     "evalue": "starred assignment target must be in a list or tuple (<ipython-input-6-77c6f344fe32>, line 1)",
     "output_type": "error",
     "traceback": [
      "\u001b[1;36m  File \u001b[1;32m\"<ipython-input-6-77c6f344fe32>\"\u001b[1;36m, line \u001b[1;32m1\u001b[0m\n\u001b[1;33m    *others = car_ages_descending\u001b[0m\n\u001b[1;37m    ^\u001b[0m\n\u001b[1;31mSyntaxError\u001b[0m\u001b[1;31m:\u001b[0m starred assignment target must be in a list or tuple\n"
     ]
    }
   ],
   "source": [
    "*others = car_ages_descending"
   ]
  },
  {
   "cell_type": "markdown",
   "id": "a2dfb6ea",
   "metadata": {},
   "source": [
    "### 별표식 잘못된 사용 사례2\n",
    ": 별표식을 2개 이상 사용"
   ]
  },
  {
   "cell_type": "code",
   "execution_count": 7,
   "id": "68ed5fca",
   "metadata": {},
   "outputs": [
    {
     "ename": "SyntaxError",
     "evalue": "two starred expressions in assignment (<ipython-input-7-f9dd84384e6d>, line 1)",
     "output_type": "error",
     "traceback": [
      "\u001b[1;36m  File \u001b[1;32m\"<ipython-input-7-f9dd84384e6d>\"\u001b[1;36m, line \u001b[1;32m1\u001b[0m\n\u001b[1;33m    first, *middle, *second_middle, last = [1,2,3,4]\u001b[0m\n\u001b[1;37m    ^\u001b[0m\n\u001b[1;31mSyntaxError\u001b[0m\u001b[1;31m:\u001b[0m two starred expressions in assignment\n"
     ]
    }
   ],
   "source": [
    "first, *middle, *second_middle, last = [1,2,3,4]"
   ]
  },
  {
   "cell_type": "markdown",
   "id": "b830d3b4",
   "metadata": {},
   "source": [
    "### 여러 계층으로 이뤄진 구조를 별표 식을 사용하여 언패킹\n",
    "* 별표 식을 여럿 사용 가능"
   ]
  },
  {
   "cell_type": "code",
   "execution_count": 23,
   "id": "045ebadc",
   "metadata": {},
   "outputs": [
    {
     "name": "stdout",
     "output_type": "stream",
     "text": [
      "시내 최고는 그랜저, 나머지는 2 종\n",
      "공항 최고는 제네시스 쿠페, 나머지는 3 종\n"
     ]
    }
   ],
   "source": [
    "car_inventory = {\n",
    "    '시내': ('그랜저', '아반떼', '티코'),\n",
    "    '공항': ('제네시스 쿠페', '소나타', 'K5', '엑센트'),\n",
    "}\n",
    "\n",
    "((loc1, (best1, *rest1)),\n",
    " (loc2, (best2, *rest2))) = car_inventory.items()\n",
    "\n",
    "print(f'{loc1} 최고는 {best1}, 나머지는 {len(rest1)} 종')\n",
    "print(f'{loc2} 최고는 {best2}, 나머지는 {len(rest2)} 종')"
   ]
  },
  {
   "cell_type": "markdown",
   "id": "34b5ba36",
   "metadata": {},
   "source": [
    "### 언패킹하는 시퀀스에 남는 원소가 없다면, 별표식부분은 빈리스트가 된다."
   ]
  },
  {
   "cell_type": "code",
   "execution_count": 15,
   "id": "ae933449",
   "metadata": {},
   "outputs": [
    {
     "name": "stdout",
     "output_type": "stream",
     "text": [
      "1 2 []\n"
     ]
    }
   ],
   "source": [
    "short_list = [1, 2]\n",
    "first, second, *rest = short_list\n",
    "print(first, second, rest)"
   ]
  },
  {
   "cell_type": "markdown",
   "id": "1b841d39",
   "metadata": {},
   "source": [
    "### 별표 식으로 언패킹하여 이터레이터 가져오기"
   ]
  },
  {
   "cell_type": "code",
   "execution_count": 29,
   "id": "37128d8c",
   "metadata": {},
   "outputs": [
    {
     "name": "stdout",
     "output_type": "stream",
     "text": [
      "1 & 2\n"
     ]
    }
   ],
   "source": [
    "# 기본 언패킹\n",
    "it = iter(range(1, 3))\n",
    "first, second = it\n",
    "print(f'{first} & {second}')"
   ]
  },
  {
   "cell_type": "markdown",
   "id": "dadf658c",
   "metadata": {},
   "source": [
    "#### 1. 인덱스와 슬라이싱을 사용해 처리\n",
    "* 여러 줄이 필요하고 시각적으로 잡음이 많음."
   ]
  },
  {
   "cell_type": "code",
   "execution_count": 17,
   "id": "a7172bce",
   "metadata": {},
   "outputs": [
    {
     "name": "stdout",
     "output_type": "stream",
     "text": [
      "CSV헤더:  ('날짜', '제조사', '모델', '연식', '가격')\n",
      "행 수:  0\n"
     ]
    }
   ],
   "source": [
    "# 제너레이터\n",
    "def generate_csv():\n",
    "    yield ('날짜', '제조사', '모델', '연식', '가격')\n",
    "    # yield ...\n",
    "\n",
    "all_csv_rows = list(generate_csv())\n",
    "header = all_csv_rows[0]\n",
    "rows = all_csv_rows[1:]\n",
    "\n",
    "print('CSV헤더: ', header)\n",
    "print('행 수: ', len(rows))"
   ]
  },
  {
   "cell_type": "markdown",
   "id": "f1fe1468",
   "metadata": {},
   "source": [
    "#### 2. 별표 식으로 언패킹\n",
    "* BUT, 별표 식은 항상 리스트를 만들어 내기 때문에 메모리 문제가 발생할 수 있다.\n",
    "* 따라서 <u>결과데이터가 모두 메모리에 들어갈 수 있다</u>고 확신할 때만 사용"
   ]
  },
  {
   "cell_type": "code",
   "execution_count": 18,
   "id": "af0a8d37",
   "metadata": {},
   "outputs": [
    {
     "name": "stdout",
     "output_type": "stream",
     "text": [
      "CSV헤더:  ('날짜', '제조사', '모델', '연식', '가격')\n",
      "행 수:  0\n"
     ]
    }
   ],
   "source": [
    "it = generate_csv()\n",
    "header, *rows = it\n",
    "\n",
    "print('CSV헤더: ', header)\n",
    "print('행 수: ', len(rows))"
   ]
  }
 ],
 "metadata": {
  "kernelspec": {
   "display_name": "Python 3",
   "language": "python",
   "name": "python3"
  },
  "language_info": {
   "codemirror_mode": {
    "name": "ipython",
    "version": 3
   },
   "file_extension": ".py",
   "mimetype": "text/x-python",
   "name": "python",
   "nbconvert_exporter": "python",
   "pygments_lexer": "ipython3",
   "version": "3.8.5"
  }
 },
 "nbformat": 4,
 "nbformat_minor": 5
}
