{
 "cells": [
  {
   "cell_type": "markdown",
   "id": "eddae2b6",
   "metadata": {},
   "source": [
    "### 위치 인자"
   ]
  },
  {
   "cell_type": "code",
   "execution_count": 21,
   "id": "9e69b2ac",
   "metadata": {},
   "outputs": [],
   "source": [
    "# 나머지 반환 함수\n",
    "def remainder(number, divisor):\n",
    "    return number % divisor\n",
    "\n",
    "assert remainder(20, 7) == 6"
   ]
  },
  {
   "cell_type": "markdown",
   "id": "c1797cd2",
   "metadata": {},
   "source": [
    "### 위치 인자와 키워드 인자를 섞어서 사용\n",
    "* 키워드로 인자를 전달할 때는 함수의 괄호 내부에서 <u>파라미터 이름</u>을 대입 연산에 사용함"
   ]
  },
  {
   "cell_type": "code",
   "execution_count": 2,
   "id": "591c723c",
   "metadata": {},
   "outputs": [
    {
     "data": {
      "text/plain": [
       "6"
      ]
     },
     "execution_count": 2,
     "metadata": {},
     "output_type": "execute_result"
    }
   ],
   "source": [
    "remainder(20, 7)\n",
    "remainder(20, divisor=7)\n",
    "remainder(number=20, divisor=7)\n",
    "remainder(divisor=7, number=20) # 키워드 인자 사용시, 순서는 무관"
   ]
  },
  {
   "cell_type": "markdown",
   "id": "2ee9241b",
   "metadata": {},
   "source": [
    "### 섞어서 사용할 때 키워드 인자를 먼저 쓰면 오류 발생"
   ]
  },
  {
   "cell_type": "code",
   "execution_count": 4,
   "id": "93e86047",
   "metadata": {},
   "outputs": [
    {
     "ename": "SyntaxError",
     "evalue": "positional argument follows keyword argument (<ipython-input-4-dedb51efc7db>, line 2)",
     "output_type": "error",
     "traceback": [
      "\u001b[1;36m  File \u001b[1;32m\"<ipython-input-4-dedb51efc7db>\"\u001b[1;36m, line \u001b[1;32m2\u001b[0m\n\u001b[1;33m    remainder(number=20, 7)\u001b[0m\n\u001b[1;37m                         ^\u001b[0m\n\u001b[1;31mSyntaxError\u001b[0m\u001b[1;31m:\u001b[0m positional argument follows keyword argument\n"
     ]
    }
   ],
   "source": [
    "remainder(number=20, 7)"
   ]
  },
  {
   "cell_type": "markdown",
   "id": "5d40e661",
   "metadata": {},
   "source": [
    "### 인자를 두 번 지정하면 오류 발생"
   ]
  },
  {
   "cell_type": "code",
   "execution_count": 23,
   "id": "83b8af0b",
   "metadata": {},
   "outputs": [
    {
     "ename": "TypeError",
     "evalue": "remainder() got multiple values for argument 'number'",
     "output_type": "error",
     "traceback": [
      "\u001b[1;31m---------------------------------------------------------------------------\u001b[0m",
      "\u001b[1;31mTypeError\u001b[0m                                 Traceback (most recent call last)",
      "\u001b[1;32m<ipython-input-23-0d34c4ed8ca7>\u001b[0m in \u001b[0;36m<module>\u001b[1;34m\u001b[0m\n\u001b[0;32m      1\u001b[0m \u001b[1;31m# 첫 번째 위치 인자가 number에 대입된다.\u001b[0m\u001b[1;33m\u001b[0m\u001b[1;33m\u001b[0m\u001b[1;33m\u001b[0m\u001b[0m\n\u001b[1;32m----> 2\u001b[1;33m \u001b[0mremainder\u001b[0m\u001b[1;33m(\u001b[0m\u001b[1;36m20\u001b[0m\u001b[1;33m,\u001b[0m \u001b[0mnumber\u001b[0m\u001b[1;33m=\u001b[0m\u001b[1;36m7\u001b[0m\u001b[1;33m)\u001b[0m\u001b[1;33m\u001b[0m\u001b[1;33m\u001b[0m\u001b[0m\n\u001b[0m",
      "\u001b[1;31mTypeError\u001b[0m: remainder() got multiple values for argument 'number'"
     ]
    }
   ],
   "source": [
    "# 첫 번째 위치 인자가 number\n",
    "remainder(20, number=7)"
   ]
  },
  {
   "cell_type": "markdown",
   "id": "18fd1c3c",
   "metadata": {},
   "source": [
    "### 딕셔너리에 **연산자를 사용하여 인자 전달\n",
    "**연산자: 딕셔너리에 들어 있는 값을 함수에 전달하되,각 값에 대응하는 키를 키워드로 사용하도록 명령한다."
   ]
  },
  {
   "cell_type": "code",
   "execution_count": 8,
   "id": "bca0ec6f",
   "metadata": {},
   "outputs": [],
   "source": [
    "my_kwargs = {\n",
    "    'number': 20,\n",
    "    'divisor': 7,\n",
    "}\n",
    "\n",
    "remainder(number = 20, divisor=7)\n",
    "assert remainder(**my_kwargs) == 6"
   ]
  },
  {
   "cell_type": "markdown",
   "id": "e06d076f",
   "metadata": {},
   "source": [
    "### 키워드 인자 또는 위치 인자와 **연산자를 섞어서 사용"
   ]
  },
  {
   "cell_type": "code",
   "execution_count": 30,
   "id": "a91e31c0",
   "metadata": {},
   "outputs": [],
   "source": [
    "my_kwargs = {\n",
    "    'divisor': 7,\n",
    "}\n",
    "\n",
    "assert remainder(number=20, **my_kwargs) == 6\n",
    "assert remainder(20, **my_kwargs) == 6"
   ]
  },
  {
   "cell_type": "markdown",
   "id": "06e8443e",
   "metadata": {},
   "source": [
    "### **연산자를 여러 번 사용"
   ]
  },
  {
   "cell_type": "code",
   "execution_count": 10,
   "id": "4ab978f9",
   "metadata": {},
   "outputs": [],
   "source": [
    "my_kwargs = {\n",
    "    'number': 20,\n",
    "}\n",
    "\n",
    "other_kwargs = {\n",
    "    'divisor': 7,\n",
    "}\n",
    "\n",
    "assert remainder(**my_kwargs, **other_kwargs) == 6"
   ]
  },
  {
   "cell_type": "markdown",
   "id": "f14a9f7b",
   "metadata": {},
   "source": [
    "### **kwargs 파라미터는 모든 키워드 인자를 dict에 모아준다. (keyword argument의 줄임말)"
   ]
  },
  {
   "cell_type": "code",
   "execution_count": 29,
   "id": "c3a497c3",
   "metadata": {},
   "outputs": [
    {
     "name": "stdout",
     "output_type": "stream",
     "text": [
      "{'alpha': 1.5, 'beta': 9, '감마': 4}\n",
      "alpha = 1.5\n",
      "beta = 9\n",
      "감마 = 4\n"
     ]
    }
   ],
   "source": [
    "# 꼭 파라미터명이 kwargs일 필요는 없다.\n",
    "def print_parameters(**kwargs):\n",
    "    print(kwargs)\n",
    "    for key, value in kwargs.items():\n",
    "        print(f'{key} = {value}')\n",
    "\n",
    "# 파라미터에 키워드 인자를 넣으면\n",
    "# **kwargs에 의해 딕셔너리로 모아준다.\n",
    "print_parameters(alpha=1.5, beta=9, 감마=4)"
   ]
  },
  {
   "cell_type": "markdown",
   "id": "8efbd964",
   "metadata": {},
   "source": [
    "### 키워드 인자를 사용하면 얻는 이점\n",
    "1. 코드를 처음보는 사람에게 함수 호출의 의미를 명확히 알려줄 수 있다.\n",
    "2. 함수 정의에서 디폴트 값을 지정할 수 있다.\n",
    "3. 기존 호출자에게 <u>하위 호환성(backward compatibility)를 제공</u>하면서 함수 파라미터를 확장할 수 있는 방법을 제공한다. 즉 새로운 버그가 생길 여지가 줄어든다."
   ]
  },
  {
   "cell_type": "markdown",
   "id": "ac4ec7f9",
   "metadata": {},
   "source": [
    "### 예시) 어떤 탱크에 흘러 들어가는 시간당 유입량 계산\n",
    "**1. 초당 킬로그램 (kg/s)**"
   ]
  },
  {
   "cell_type": "code",
   "execution_count": 12,
   "id": "d6ecd565",
   "metadata": {},
   "outputs": [
    {
     "name": "stdout",
     "output_type": "stream",
     "text": [
      "0.167 kg/s\n"
     ]
    }
   ],
   "source": [
    "def flow_rate(weight_diff, time_diff):\n",
    "    return weight_diff / time_diff # 무게 차 / 시간(kg/s)\n",
    "\n",
    "weight_diff = 0.5\n",
    "time_diff = 3\n",
    "flow = flow_rate(weight_diff, time_diff) # 위치 인자\n",
    "print(f'{flow:.3} kg/s')"
   ]
  },
  {
   "cell_type": "markdown",
   "id": "69c7fff0",
   "metadata": {},
   "source": [
    "시간 단위를 계산하기 위해<br>\n",
    "함수에 period라는 scaling factor를 추가.\n",
    "> scaling factor: 어떤 양을 늘리거나 줄이거나 또는 곱하는 수"
   ]
  },
  {
   "cell_type": "code",
   "execution_count": 13,
   "id": "e9b00e98",
   "metadata": {},
   "outputs": [],
   "source": [
    "def flow_rate(weight_diff, time_diff, period):\n",
    "    return (weight_diff / time_diff) * period\n",
    "\n",
    "flow_per_second = flow_rate(weight_diff, time_diff, 1)"
   ]
  },
  {
   "cell_type": "markdown",
   "id": "f4915a41",
   "metadata": {},
   "source": [
    "호출할 때마다 period를 지정해야 하므로 <u>period인자에 디폴트값을 지정한다.</u><br>\n",
    "'선택적인 인자' = 디폴트 값을 지정한 인자(파라미터)"
   ]
  },
  {
   "cell_type": "code",
   "execution_count": 14,
   "id": "e3fae3f7",
   "metadata": {},
   "outputs": [],
   "source": [
    "def flow_rate(weight_diff, time_diff, period=1):\n",
    "    return (weight_diff / time_diff) * period\n",
    "\n",
    "flow_per_second = flow_rate(weight_diff, time_diff)\n",
    "flow_per_hour = flow_rate(weight_diff, time_diff, period=3600)"
   ]
  },
  {
   "cell_type": "markdown",
   "id": "6f1e1309",
   "metadata": {},
   "source": [
    "**2. 무게 단위를 사용하여 시간당 유입량을 계산**\n",
    "\n",
    "측정단위를 변환하기 위한 비율을 제공하는 새로운 <u>선택적인 파라미터</u> units_per_kg를 추가한다.<br>\n",
    "디폴트 값을 1로 해주었으므로 <u>기존 호출 코드의 동작은 변함이 없다.</u>\n",
    "=> **하위 호환성 제공**"
   ]
  },
  {
   "cell_type": "code",
   "execution_count": 20,
   "id": "bf757ec9",
   "metadata": {},
   "outputs": [],
   "source": [
    "def flow_rate(weight_diff, time_diff,\n",
    "             period=1, units_per_kg=1):\n",
    "    return ((weight_diff * units_per_kg) / time_diff) * period\n",
    "\n",
    "pounds_per_hour = flow_rate(weight_diff, time_diff,\n",
    "                            period=3600, units_per_kg=2.2)"
   ]
  },
  {
   "cell_type": "markdown",
   "id": "0660a7e6",
   "metadata": {},
   "source": [
    "이러한 접근 방법의 유일한 문제점은 <u>선택적인 키워드 인자를 여전히 위치 인자로 지정할 수 있어서 혼동을 야기한다.</u>\n",
    "\n",
    "따라서, **선택적인 인자는 항상 키워드 인자로 지정**해주는 것이 최선이다."
   ]
  },
  {
   "cell_type": "code",
   "execution_count": 26,
   "id": "562789ed",
   "metadata": {},
   "outputs": [],
   "source": [
    "# 3600과 2.2가 의미하는 바를 파악하기 어렵다.\n",
    "\n",
    "pounds_per_hour = flow_rate(weight_diff, time_diff, 3600, 2.2)"
   ]
  },
  {
   "cell_type": "markdown",
   "id": "c29a17d4",
   "metadata": {},
   "source": [
    "__선택적인 키워드 인자를 사용해 하위 호환성을 제공하는 것은 *args 인자를 받는 함수의 경우 더 중요하다.__"
   ]
  },
  {
   "cell_type": "code",
   "execution_count": 31,
   "id": "96cc201c",
   "metadata": {},
   "outputs": [
    {
     "name": "stdout",
     "output_type": "stream",
     "text": [
      "()\n",
      "('이순신', '김전일')\n"
     ]
    }
   ],
   "source": [
    "def name(v=1, *args):\n",
    "    print(args)\n",
    "\n",
    "name(\"홍길동\")\n",
    "name(\"홍길동\", \"이순신\", \"김전일\")"
   ]
  },
  {
   "cell_type": "markdown",
   "id": "19d4faeb",
   "metadata": {},
   "source": [
    "> **하위 호환성**: 기술 및 컴퓨터 분야에서 새 제품이 이전 제품을 염두에 두고 만들어진 제품에서 별도의 수정 없이 그대로 쓰일 수 있는 것을 뜻한다. 하위호환성은 한 제품의 특성이 아닌 두 제품 (새 제품과 이전 제품) 사이에서 성립하는 관계이며, 호환성의 특수한 경우로 볼 수 있다. 두 제품을 서로 바꿔 쓸 수 있음을 보장하는 호환성과는 달리, 하위호환성은 한 제품이 다른 제품 대신에 쓰일 수 있다는 것만 보장하고 그 반대는 보장하지 않는다.\n",
    "</br>(출처: [하위 호환성-위키백과](https://ko.wikipedia.org/wiki/%ED%95%98%EC%9C%84_%ED%98%B8%ED%99%98%EC%84%B1))\n",
    "\n",
    "> **마이그레이션(migration)**: 한 운영 환경으로부터 더 낫다고 여겨지는 운영환경으로 옮겨가는 과정을 말한다.새로운 하드웨어나 소프트웨어 또는 둘 다 바뀌는 것도 포함한다. 또는 데이터를 한 저장장치에서 다른 저장장치로 옮기는 과정을 의미하기도 한다. (출처: [마이그레이션 뜻-티스토리](https://fromleaf.tistory.com/65))\n"
   ]
  }
 ],
 "metadata": {
  "kernelspec": {
   "display_name": "Python 3",
   "language": "python",
   "name": "python3"
  },
  "language_info": {
   "codemirror_mode": {
    "name": "ipython",
    "version": 3
   },
   "file_extension": ".py",
   "mimetype": "text/x-python",
   "name": "python",
   "nbconvert_exporter": "python",
   "pygments_lexer": "ipython3",
   "version": "3.8.5"
  }
 },
 "nbformat": 4,
 "nbformat_minor": 5
}
